{
 "cells": [
  {
   "cell_type": "code",
   "execution_count": null,
   "metadata": {},
   "outputs": [
    {
     "data": {
      "application/javascript": [
       "require.undef(\"nbextensions/vpython_libraries/glow.min\");"
      ],
      "text/plain": [
       "<IPython.core.display.Javascript object>"
      ]
     },
     "metadata": {},
     "output_type": "display_data"
    },
    {
     "data": {
      "application/javascript": [
       "require.undef(\"nbextensions/vpython_libraries/glowcomm\");"
      ],
      "text/plain": [
       "<IPython.core.display.Javascript object>"
      ]
     },
     "metadata": {},
     "output_type": "display_data"
    },
    {
     "data": {
      "application/javascript": [
       "require.undef(\"nbextensions/vpython_libraries/jquery-ui.custom.min\");"
      ],
      "text/plain": [
       "<IPython.core.display.Javascript object>"
      ]
     },
     "metadata": {},
     "output_type": "display_data"
    },
    {
     "data": {
      "application/javascript": [
       "require([\"nbextensions/vpython_libraries/glow.min\"], function(){console.log(\"GLOW LOADED\");})"
      ],
      "text/plain": [
       "<IPython.core.display.Javascript object>"
      ]
     },
     "metadata": {},
     "output_type": "display_data"
    },
    {
     "data": {
      "application/javascript": [
       "require([\"nbextensions/vpython_libraries/glowcomm\"], function(){console.log(\"GLOWCOMM LOADED\");})"
      ],
      "text/plain": [
       "<IPython.core.display.Javascript object>"
      ]
     },
     "metadata": {},
     "output_type": "display_data"
    },
    {
     "data": {
      "application/javascript": [
       "require([\"nbextensions/vpython_libraries/jquery-ui.custom.min\"], function(){console.log(\"JQUERY LOADED\");})"
      ],
      "text/plain": [
       "<IPython.core.display.Javascript object>"
      ]
     },
     "metadata": {},
     "output_type": "display_data"
    },
    {
     "data": {
      "text/html": [
       "<div id=\"glowscript\" class=\"glowscript\"></div>"
      ],
      "text/plain": [
       "<IPython.core.display.HTML object>"
      ]
     },
     "metadata": {},
     "output_type": "display_data"
    },
    {
     "data": {
      "application/javascript": [
       "window.__context = { glowscript_container: $(\"#glowscript\").removeAttr(\"id\")}"
      ],
      "text/plain": [
       "<IPython.core.display.Javascript object>"
      ]
     },
     "metadata": {},
     "output_type": "display_data"
    }
   ],
   "source": [
    "from vpython import *\n",
    "\n",
    "R=0.1\n",
    "ball1=sphere(pos=vector(-1,0,0), radius=R)\n",
    "ball2=sphere(pos=vector(1,0,0), radius=R)\n",
    "\n",
    "ball1.m=1\n",
    "ball2.m=1\n",
    "\n",
    "G=6.67e-4\n",
    "\n",
    "ball1.p=vector(0,0,0)\n",
    "ball2.p=vector(0,0,0)\n",
    "#ball1.F=vector(1,2,3)\n",
    "#print(ball1.F)\n",
    "\n",
    "t=0\n",
    "dt=0.001\n",
    "\n",
    "k=5\n",
    "kv=.02\n",
    "\n",
    "while t<400:\n",
    "    rate(1000)\n",
    "    Fs=vector(0,0,0)\n",
    "    r=ball2.pos-ball1.pos\n",
    "    Fg=-G*ball1.m*ball2.m*norm(r)/mag(r)**2\n",
    "    if mag(r)<2*R:\n",
    "        s=mag(r)-2*R\n",
    "        Fs=-k*s*norm(r)\n",
    "        \n",
    "    ball2.F=Fg+Fs-kv*ball2.p/ball2.m\n",
    "    ball1.F=-Fg-Fs-kv*ball1.p/ball1.m\n",
    "    ball2.p=ball2.p+ball2.F*dt\n",
    "    ball1.p=ball1.p+ball1.F*dt\n",
    "    ball2.pos=ball2.pos+ball2.p*dt/ball2.m\n",
    "    ball1.pos=ball1.pos+ball1.p*dt/ball1.m\n",
    "    t=t+dt"
   ]
  },
  {
   "cell_type": "code",
   "execution_count": null,
   "metadata": {
    "collapsed": true
   },
   "outputs": [],
   "source": []
  }
 ],
 "metadata": {
  "kernelspec": {
   "display_name": "VPython",
   "language": "python",
   "name": "vpython"
  },
  "language_info": {
   "codemirror_mode": {
    "name": "ipython",
    "version": 3
   },
   "file_extension": ".py",
   "mimetype": "text/x-python",
   "name": "python",
   "nbconvert_exporter": "python",
   "pygments_lexer": "ipython3",
   "version": "3.6.3"
  }
 },
 "nbformat": 4,
 "nbformat_minor": 2
}
