{
 "cells": [
  {
   "cell_type": "code",
   "execution_count": 1,
   "metadata": {},
   "outputs": [
    {
     "data": {
      "application/javascript": [
       "require.undef(\"nbextensions/vpython_libraries/glow.min\");"
      ],
      "text/plain": [
       "<IPython.core.display.Javascript object>"
      ]
     },
     "metadata": {},
     "output_type": "display_data"
    },
    {
     "data": {
      "application/javascript": [
       "require.undef(\"nbextensions/vpython_libraries/glowcomm\");"
      ],
      "text/plain": [
       "<IPython.core.display.Javascript object>"
      ]
     },
     "metadata": {},
     "output_type": "display_data"
    },
    {
     "data": {
      "application/javascript": [
       "require.undef(\"nbextensions/vpython_libraries/jquery-ui.custom.min\");"
      ],
      "text/plain": [
       "<IPython.core.display.Javascript object>"
      ]
     },
     "metadata": {},
     "output_type": "display_data"
    },
    {
     "data": {
      "application/javascript": [
       "require([\"nbextensions/vpython_libraries/glow.min\"], function(){console.log(\"GLOW LOADED\");})"
      ],
      "text/plain": [
       "<IPython.core.display.Javascript object>"
      ]
     },
     "metadata": {},
     "output_type": "display_data"
    },
    {
     "data": {
      "application/javascript": [
       "require([\"nbextensions/vpython_libraries/glowcomm\"], function(){console.log(\"GLOWCOMM LOADED\");})"
      ],
      "text/plain": [
       "<IPython.core.display.Javascript object>"
      ]
     },
     "metadata": {},
     "output_type": "display_data"
    },
    {
     "data": {
      "application/javascript": [
       "require([\"nbextensions/vpython_libraries/jquery-ui.custom.min\"], function(){console.log(\"JQUERY LOADED\");})"
      ],
      "text/plain": [
       "<IPython.core.display.Javascript object>"
      ]
     },
     "metadata": {},
     "output_type": "display_data"
    },
    {
     "data": {
      "text/html": [
       "<div id=\"glowscript\" class=\"glowscript\"></div>"
      ],
      "text/plain": [
       "<IPython.core.display.HTML object>"
      ]
     },
     "metadata": {},
     "output_type": "display_data"
    },
    {
     "data": {
      "application/javascript": [
       "window.__context = { glowscript_container: $(\"#glowscript\").removeAttr(\"id\")}"
      ],
      "text/plain": [
       "<IPython.core.display.Javascript object>"
      ]
     },
     "metadata": {},
     "output_type": "display_data"
    },
    {
     "name": "stdout",
     "output_type": "stream",
     "text": [
      "150.00000000000855\n"
     ]
    }
   ],
   "source": [
    "from vpython import *\n",
    "\n",
    "R=0.02\n",
    "N=10\n",
    "m=1\n",
    "G=6.67e-6\n",
    "\n",
    "#g is the local attraction\n",
    "g=1e-7\n",
    "k=30\n",
    "kv=1 #this is the velocity drag\n",
    "kr=3*G*4*R**2 #this is the repulsive constant (1/r^4)\n",
    "Fmax=100\n",
    "\n",
    "theta=random()*pi\n",
    "phi=random()*pi*2\n",
    "rr=random()\n",
    "\n",
    "#balls=[sphere(pos=vector(2*random()-1,2*random()-1,2*random()-1), radius=R)]\n",
    "#balls=[sphere(pos=rr*vector(sin(theta)*cos(phi),sin(theta)*sin(phi),cos(theta)), radius=R)]\n",
    "balls=[sphere(pos=vector(-((N/2)-1)*R+.5*R,0,0), radius=R)]\n",
    "def overlap(b1,blist):\n",
    "    #this function looks for ANY overlap\n",
    "    for k in blist:\n",
    "        r=b1-k.pos\n",
    "        if mag(r)<2*R:\n",
    "            return(True)\n",
    "    return(False)\n",
    "\n",
    "dx=2*R\n",
    "bcount=1\n",
    "#this just makes some random balls\n",
    "#while bcount<N:\n",
    "#    theta=random()*pi\n",
    "#    phi=random()*pi*2\n",
    "#    rr=random()\n",
    "#    temp=rr*vector(sin(theta)*cos(phi),sin(theta)*sin(phi),cos(theta))\n",
    "#    #temp=vector(2*random()-1,2*random()-1,2*random()-1)\n",
    "#    if not overlap(temp,balls):\n",
    "#        \n",
    "#        balls=balls+[sphere(pos=temp, radius=R,make_trail=False)]\n",
    "#        bcount=bcount+1\n",
    "#    for i in balls:\n",
    "#        i.p=vector(0,0,0)\n",
    "#        i.m=m\n",
    "tempx=vector(-((N/2)-1)*R+.5*R,0,0)\n",
    "\n",
    "while bcount<N:\n",
    "    tempx=tempx+vector(dx,0,0)\n",
    "    balls=balls+[sphere(pos=tempx,radius=R)]\n",
    "    bcount=bcount+1\n",
    "    \n",
    "\n",
    "bcount=1\n",
    "tempx=vector(-((N/2)-1)*R+.5*R,R*2,0)\n",
    "while bcount<N:\n",
    "    tempx=tempx+vector(dx,0,0)\n",
    "    balls=balls+[sphere(pos=tempx,radius=R)]\n",
    "    bcount=bcount+1\n",
    "\n",
    "bcount=1\n",
    "tempx=vector(-((N/2)-1)*R+.5*R,0,R*2)\n",
    "while bcount<N:\n",
    "    tempx=tempx+vector(dx,0,0)\n",
    "    balls=balls+[sphere(pos=tempx,radius=R)]\n",
    "    bcount=bcount+1\n",
    "    \n",
    "for i in balls:\n",
    "    i.m=m\n",
    "    i.p=vector(0,0,0)\n",
    "\n",
    "def gforce(bball, balllist):\n",
    "    #this takes one ball and calculates the net gravitational force on it\n",
    "    tempforce=vector(0,0,0)\n",
    "    for i in balllist:\n",
    "        \n",
    "        rtemp=bball.pos-i.pos\n",
    "        if mag(rtemp)>R:\n",
    "            tempforce=tempforce-G*i.m*bball.m*norm(rtemp)/mag(rtemp)**2-g*i.m*bball.m*norm(rtemp)/mag(rtemp)**3\n",
    "    #tempforce=tempforce-kv*i.p/i.m\n",
    "    return(tempforce)\n",
    "            \n",
    "def springforce(bball,balllist):\n",
    "    \n",
    "    #this finds the net spring force on the balls\n",
    "    tempforce=vector(0,0,0)\n",
    "    for i in balllist:\n",
    "        if bball.pos.x==i.pos.x and bball.pos.y==i.pos.y and bball.pos.z==i.pos.z:\n",
    "            tempforce=tempforce+vector(0,0,0)\n",
    "        else:\n",
    "            rr=bball.pos-i.pos\n",
    "            if mag(rr)<2.2*R:\n",
    "                s=mag(rr)-2*R\n",
    "                Fs=-k*s*norm(rr)\n",
    "                tempforce=tempforce+Fs\n",
    "    return(tempforce)\n",
    "        \n",
    "    #check for overlap\n",
    "    #find s\n",
    "    #find force\n",
    "    #add to total force\n",
    "    \n",
    "    \n",
    "    \n",
    "t=0\n",
    "dt=0.01\n",
    "\n",
    "while t<150:\n",
    "    rate(100000)\n",
    "    for i in balls:\n",
    "        i.F=springforce(i,balls)+gforce(i,balls)-kv*i.p/i.m\n",
    "        i.p=i.p+i.F*dt\n",
    "        #i.p=i.p+(calcforce(i,balls)-kv*i.p/i.m)*dt\n",
    "        i.pos=i.pos+i.p*dt/i.m\n",
    "        \n",
    "    t=t+dt\n",
    "print(t)\n"
   ]
  }
 ],
 "metadata": {
  "kernelspec": {
   "display_name": "Python 3",
   "language": "python",
   "name": "python3"
  },
  "language_info": {
   "codemirror_mode": {
    "name": "ipython",
    "version": 3
   },
   "file_extension": ".py",
   "mimetype": "text/x-python",
   "name": "python",
   "nbconvert_exporter": "python",
   "pygments_lexer": "ipython3",
   "version": "3.6.3"
  }
 },
 "nbformat": 4,
 "nbformat_minor": 2
}
